{
 "cells": [
  {
   "cell_type": "markdown",
   "id": "ac8e5f5c",
   "metadata": {},
   "source": [
    "## Normalização\n",
    "---"
   ]
  },
  {
   "cell_type": "markdown",
   "id": "25a4f092",
   "metadata": {},
   "source": [
    "### Importando bibliotecas\n",
    "---"
   ]
  },
  {
   "cell_type": "code",
   "execution_count": 1,
   "id": "1ec34aad",
   "metadata": {},
   "outputs": [],
   "source": [
    "%matplotlib notebook\n",
    "\n",
    "import matplotlib.pyplot as plt\n",
    "from sklearn.impute import SimpleImputer\n",
    "import pandas as pd\n",
    "import numpy as np\n",
    "from scipy.stats import norm\n",
    "from mpl_toolkits.mplot3d import Axes3D\n",
    "from sklearn import cluster, datasets\n",
    "from sklearn.neighbors import kneighbors_graph\n",
    "from sklearn.preprocessing import StandardScaler\n",
    "\n",
    "from sklearn.cluster import KMeans\n",
    "from sklearn.decomposition import PCA\n",
    "\n",
    "from mpl_toolkits import mplot3d\n",
    "\n",
    "from utils import * #created function"
   ]
  },
  {
   "cell_type": "markdown",
   "id": "0db5291b",
   "metadata": {},
   "source": [
    "### Lendo dados\n",
    "---"
   ]
  },
  {
   "cell_type": "code",
   "execution_count": 2,
   "id": "be8bcd7e",
   "metadata": {},
   "outputs": [],
   "source": [
    "%run Analise_survey.ipynb"
   ]
  },
  {
   "cell_type": "code",
   "execution_count": 3,
   "id": "ace86919",
   "metadata": {},
   "outputs": [
    {
     "data": {
      "text/html": [
       "<div>\n",
       "<style scoped>\n",
       "    .dataframe tbody tr th:only-of-type {\n",
       "        vertical-align: middle;\n",
       "    }\n",
       "\n",
       "    .dataframe tbody tr th {\n",
       "        vertical-align: top;\n",
       "    }\n",
       "\n",
       "    .dataframe thead th {\n",
       "        text-align: right;\n",
       "    }\n",
       "</style>\n",
       "<table border=\"1\" class=\"dataframe\">\n",
       "  <thead>\n",
       "    <tr style=\"text-align: right;\">\n",
       "      <th></th>\n",
       "      <th>GENERO</th>\n",
       "      <th>RENDA</th>\n",
       "      <th>PROFISSAO</th>\n",
       "      <th>TEMPO_ULTIMO_APARELHO</th>\n",
       "      <th>IMPORTANCIA</th>\n",
       "      <th>OITO_1</th>\n",
       "      <th>OITO_2</th>\n",
       "      <th>OITO_3</th>\n",
       "      <th>OITO_4</th>\n",
       "      <th>OITO_5</th>\n",
       "      <th>...</th>\n",
       "      <th>PARADEIRO_ANTIGO</th>\n",
       "      <th>HIBERNACAO</th>\n",
       "      <th>RECICLAGEM</th>\n",
       "      <th>PRECO_ATUAL</th>\n",
       "      <th>NOVO_ATRAI</th>\n",
       "      <th>PROMOCAO</th>\n",
       "      <th>NOTA_ATUAL</th>\n",
       "      <th>SATISFSACAO_NOVO</th>\n",
       "      <th>TEMPO_ESPERADO</th>\n",
       "      <th>DURACAO_ESPERADA</th>\n",
       "    </tr>\n",
       "  </thead>\n",
       "  <tbody>\n",
       "    <tr>\n",
       "      <th>0</th>\n",
       "      <td>2</td>\n",
       "      <td>3300</td>\n",
       "      <td>0</td>\n",
       "      <td>24.0</td>\n",
       "      <td>5.0</td>\n",
       "      <td>2</td>\n",
       "      <td>2</td>\n",
       "      <td>0</td>\n",
       "      <td>2</td>\n",
       "      <td>0</td>\n",
       "      <td>...</td>\n",
       "      <td>0</td>\n",
       "      <td>1</td>\n",
       "      <td>2</td>\n",
       "      <td>1850</td>\n",
       "      <td>0.0</td>\n",
       "      <td>2</td>\n",
       "      <td>7.0</td>\n",
       "      <td>9.0</td>\n",
       "      <td>36.0</td>\n",
       "      <td>2</td>\n",
       "    </tr>\n",
       "    <tr>\n",
       "      <th>1</th>\n",
       "      <td>1</td>\n",
       "      <td>22000</td>\n",
       "      <td>0</td>\n",
       "      <td>12.0</td>\n",
       "      <td>5.0</td>\n",
       "      <td>0</td>\n",
       "      <td>1</td>\n",
       "      <td>1</td>\n",
       "      <td>3</td>\n",
       "      <td>0</td>\n",
       "      <td>...</td>\n",
       "      <td>1</td>\n",
       "      <td>1</td>\n",
       "      <td>2</td>\n",
       "      <td>9450</td>\n",
       "      <td>8.0</td>\n",
       "      <td>1</td>\n",
       "      <td>7.0</td>\n",
       "      <td>8.0</td>\n",
       "      <td>60.0</td>\n",
       "      <td>0</td>\n",
       "    </tr>\n",
       "  </tbody>\n",
       "</table>\n",
       "<p>2 rows × 25 columns</p>\n",
       "</div>"
      ],
      "text/plain": [
       "  GENERO  RENDA PROFISSAO  TEMPO_ULTIMO_APARELHO  IMPORTANCIA OITO_1 OITO_2  \\\n",
       "0      2   3300         0                   24.0          5.0      2      2   \n",
       "1      1  22000         0                   12.0          5.0      0      1   \n",
       "\n",
       "  OITO_3 OITO_4 OITO_5  ... PARADEIRO_ANTIGO HIBERNACAO RECICLAGEM  \\\n",
       "0      0      2      0  ...                0          1          2   \n",
       "1      1      3      0  ...                1          1          2   \n",
       "\n",
       "  PRECO_ATUAL  NOVO_ATRAI PROMOCAO NOTA_ATUAL SATISFSACAO_NOVO TEMPO_ESPERADO  \\\n",
       "0        1850         0.0        2        7.0              9.0           36.0   \n",
       "1        9450         8.0        1        7.0              8.0           60.0   \n",
       "\n",
       "   DURACAO_ESPERADA  \n",
       "0                 2  \n",
       "1                 0  \n",
       "\n",
       "[2 rows x 25 columns]"
      ]
     },
     "execution_count": 3,
     "metadata": {},
     "output_type": "execute_result"
    }
   ],
   "source": [
    "dados.head(2)"
   ]
  },
  {
   "cell_type": "code",
   "execution_count": 4,
   "id": "cdeced7b",
   "metadata": {},
   "outputs": [
    {
     "data": {
      "text/plain": [
       "Index(['GENERO', 'RENDA', 'PROFISSAO', 'TEMPO_ULTIMO_APARELHO', 'IMPORTANCIA',\n",
       "       'OITO_1', 'OITO_2', 'OITO_3', 'OITO_4', 'OITO_5', 'OITO_6', 'OITO_7',\n",
       "       'OITO_8', 'MOTIVO_TROCA', 'CONSIDERA_CONSERTO', 'PARADEIRO_ANTIGO',\n",
       "       'HIBERNACAO', 'RECICLAGEM', 'PRECO_ATUAL', 'NOVO_ATRAI', 'PROMOCAO',\n",
       "       'NOTA_ATUAL', 'SATISFSACAO_NOVO', 'TEMPO_ESPERADO', 'DURACAO_ESPERADA'],\n",
       "      dtype='object')"
      ]
     },
     "execution_count": 4,
     "metadata": {},
     "output_type": "execute_result"
    }
   ],
   "source": [
    "dados.columns"
   ]
  },
  {
   "cell_type": "markdown",
   "id": "c5b5cfc6",
   "metadata": {},
   "source": [
    "### Normalizando\n",
    "---"
   ]
  },
  {
   "cell_type": "markdown",
   "id": "e167b2ba",
   "metadata": {},
   "source": [
    "# GIO MUDA ESSA LISTA PARA AS VARIÁVEIS QUE VOCÊ QUER!"
   ]
  },
  {
   "cell_type": "code",
   "execution_count": 5,
   "id": "5a14ee87",
   "metadata": {},
   "outputs": [],
   "source": [
    "variaveis = ['GENERO', 'RENDA', 'PROFISSAO', 'TEMPO_ULTIMO_APARELHO', 'IMPORTANCIA',\n",
    "       'OITO_1', 'OITO_2', 'OITO_3', 'OITO_4', 'OITO_5', 'OITO_6', 'OITO_7',\n",
    "       'OITO_8', 'MOTIVO_TROCA', 'CONSIDERA_CONSERTO', 'PARADEIRO_ANTIGO',\n",
    "       'HIBERNACAO', 'RECICLAGEM', 'PRECO_ATUAL', 'NOVO_ATRAI', 'PROMOCAO',\n",
    "       'NOTA_ATUAL', 'SATISFSACAO_NOVO', 'TEMPO_ESPERADO', 'DURACAO_ESPERADA']"
   ]
  },
  {
   "cell_type": "code",
   "execution_count": 6,
   "id": "31aa7fd0",
   "metadata": {
    "scrolled": true
   },
   "outputs": [
    {
     "data": {
      "text/html": [
       "<div>\n",
       "<style scoped>\n",
       "    .dataframe tbody tr th:only-of-type {\n",
       "        vertical-align: middle;\n",
       "    }\n",
       "\n",
       "    .dataframe tbody tr th {\n",
       "        vertical-align: top;\n",
       "    }\n",
       "\n",
       "    .dataframe thead th {\n",
       "        text-align: right;\n",
       "    }\n",
       "</style>\n",
       "<table border=\"1\" class=\"dataframe\">\n",
       "  <thead>\n",
       "    <tr style=\"text-align: right;\">\n",
       "      <th></th>\n",
       "      <th>GENERO</th>\n",
       "      <th>RENDA</th>\n",
       "      <th>PROFISSAO</th>\n",
       "      <th>TEMPO_ULTIMO_APARELHO</th>\n",
       "      <th>IMPORTANCIA</th>\n",
       "      <th>OITO_1</th>\n",
       "      <th>OITO_2</th>\n",
       "      <th>OITO_3</th>\n",
       "      <th>OITO_4</th>\n",
       "      <th>OITO_5</th>\n",
       "      <th>...</th>\n",
       "      <th>PARADEIRO_ANTIGO</th>\n",
       "      <th>HIBERNACAO</th>\n",
       "      <th>RECICLAGEM</th>\n",
       "      <th>PRECO_ATUAL</th>\n",
       "      <th>NOVO_ATRAI</th>\n",
       "      <th>PROMOCAO</th>\n",
       "      <th>NOTA_ATUAL</th>\n",
       "      <th>SATISFSACAO_NOVO</th>\n",
       "      <th>TEMPO_ESPERADO</th>\n",
       "      <th>DURACAO_ESPERADA</th>\n",
       "    </tr>\n",
       "  </thead>\n",
       "  <tbody>\n",
       "    <tr>\n",
       "      <th>0</th>\n",
       "      <td>2</td>\n",
       "      <td>3300</td>\n",
       "      <td>0</td>\n",
       "      <td>24.0</td>\n",
       "      <td>5.0</td>\n",
       "      <td>2</td>\n",
       "      <td>2</td>\n",
       "      <td>0</td>\n",
       "      <td>2</td>\n",
       "      <td>0</td>\n",
       "      <td>...</td>\n",
       "      <td>0</td>\n",
       "      <td>1</td>\n",
       "      <td>2</td>\n",
       "      <td>1850</td>\n",
       "      <td>0.0</td>\n",
       "      <td>2</td>\n",
       "      <td>7.0</td>\n",
       "      <td>9.0</td>\n",
       "      <td>36.0</td>\n",
       "      <td>2</td>\n",
       "    </tr>\n",
       "    <tr>\n",
       "      <th>1</th>\n",
       "      <td>1</td>\n",
       "      <td>22000</td>\n",
       "      <td>0</td>\n",
       "      <td>12.0</td>\n",
       "      <td>5.0</td>\n",
       "      <td>0</td>\n",
       "      <td>1</td>\n",
       "      <td>1</td>\n",
       "      <td>3</td>\n",
       "      <td>0</td>\n",
       "      <td>...</td>\n",
       "      <td>1</td>\n",
       "      <td>1</td>\n",
       "      <td>2</td>\n",
       "      <td>9450</td>\n",
       "      <td>8.0</td>\n",
       "      <td>1</td>\n",
       "      <td>7.0</td>\n",
       "      <td>8.0</td>\n",
       "      <td>60.0</td>\n",
       "      <td>0</td>\n",
       "    </tr>\n",
       "    <tr>\n",
       "      <th>2</th>\n",
       "      <td>1</td>\n",
       "      <td>22000</td>\n",
       "      <td>0</td>\n",
       "      <td>30.0</td>\n",
       "      <td>9.0</td>\n",
       "      <td>0</td>\n",
       "      <td>4</td>\n",
       "      <td>0</td>\n",
       "      <td>0</td>\n",
       "      <td>4</td>\n",
       "      <td>...</td>\n",
       "      <td>5</td>\n",
       "      <td>4</td>\n",
       "      <td>1</td>\n",
       "      <td>3500</td>\n",
       "      <td>0.0</td>\n",
       "      <td>2</td>\n",
       "      <td>7.0</td>\n",
       "      <td>8.0</td>\n",
       "      <td>24.0</td>\n",
       "      <td>0</td>\n",
       "    </tr>\n",
       "    <tr>\n",
       "      <th>3</th>\n",
       "      <td>2</td>\n",
       "      <td>16500</td>\n",
       "      <td>0</td>\n",
       "      <td>24.0</td>\n",
       "      <td>4.0</td>\n",
       "      <td>0</td>\n",
       "      <td>0</td>\n",
       "      <td>0</td>\n",
       "      <td>3</td>\n",
       "      <td>3</td>\n",
       "      <td>...</td>\n",
       "      <td>0</td>\n",
       "      <td>1</td>\n",
       "      <td>0</td>\n",
       "      <td>6000</td>\n",
       "      <td>1.0</td>\n",
       "      <td>2</td>\n",
       "      <td>10.0</td>\n",
       "      <td>10.0</td>\n",
       "      <td>36.0</td>\n",
       "      <td>1</td>\n",
       "    </tr>\n",
       "    <tr>\n",
       "      <th>4</th>\n",
       "      <td>2</td>\n",
       "      <td>22000</td>\n",
       "      <td>1</td>\n",
       "      <td>12.0</td>\n",
       "      <td>10.0</td>\n",
       "      <td>0</td>\n",
       "      <td>0</td>\n",
       "      <td>0</td>\n",
       "      <td>3</td>\n",
       "      <td>2</td>\n",
       "      <td>...</td>\n",
       "      <td>0</td>\n",
       "      <td>4</td>\n",
       "      <td>2</td>\n",
       "      <td>9450</td>\n",
       "      <td>8.0</td>\n",
       "      <td>2</td>\n",
       "      <td>0.0</td>\n",
       "      <td>0.0</td>\n",
       "      <td>36.0</td>\n",
       "      <td>0</td>\n",
       "    </tr>\n",
       "  </tbody>\n",
       "</table>\n",
       "<p>5 rows × 25 columns</p>\n",
       "</div>"
      ],
      "text/plain": [
       "  GENERO  RENDA PROFISSAO  TEMPO_ULTIMO_APARELHO  IMPORTANCIA OITO_1 OITO_2  \\\n",
       "0      2   3300         0                   24.0          5.0      2      2   \n",
       "1      1  22000         0                   12.0          5.0      0      1   \n",
       "2      1  22000         0                   30.0          9.0      0      4   \n",
       "3      2  16500         0                   24.0          4.0      0      0   \n",
       "4      2  22000         1                   12.0         10.0      0      0   \n",
       "\n",
       "  OITO_3 OITO_4 OITO_5  ... PARADEIRO_ANTIGO HIBERNACAO RECICLAGEM  \\\n",
       "0      0      2      0  ...                0          1          2   \n",
       "1      1      3      0  ...                1          1          2   \n",
       "2      0      0      4  ...                5          4          1   \n",
       "3      0      3      3  ...                0          1          0   \n",
       "4      0      3      2  ...                0          4          2   \n",
       "\n",
       "  PRECO_ATUAL  NOVO_ATRAI PROMOCAO NOTA_ATUAL SATISFSACAO_NOVO TEMPO_ESPERADO  \\\n",
       "0        1850         0.0        2        7.0              9.0           36.0   \n",
       "1        9450         8.0        1        7.0              8.0           60.0   \n",
       "2        3500         0.0        2        7.0              8.0           24.0   \n",
       "3        6000         1.0        2       10.0             10.0           36.0   \n",
       "4        9450         8.0        2        0.0              0.0           36.0   \n",
       "\n",
       "   DURACAO_ESPERADA  \n",
       "0                 2  \n",
       "1                 0  \n",
       "2                 0  \n",
       "3                 1  \n",
       "4                 0  \n",
       "\n",
       "[5 rows x 25 columns]"
      ]
     },
     "execution_count": 6,
     "metadata": {},
     "output_type": "execute_result"
    }
   ],
   "source": [
    "dados[variaveis].head()"
   ]
  },
  {
   "cell_type": "code",
   "execution_count": 7,
   "id": "9584b832",
   "metadata": {},
   "outputs": [],
   "source": [
    "transform_df = categoria_to_float(dados, variaveis)"
   ]
  },
  {
   "cell_type": "code",
   "execution_count": 8,
   "id": "77e62b58",
   "metadata": {},
   "outputs": [],
   "source": [
    "filter_transform_df = transform_df[variaveis]"
   ]
  },
  {
   "cell_type": "code",
   "execution_count": 9,
   "id": "59da724a",
   "metadata": {},
   "outputs": [
    {
     "data": {
      "text/html": [
       "<div>\n",
       "<style scoped>\n",
       "    .dataframe tbody tr th:only-of-type {\n",
       "        vertical-align: middle;\n",
       "    }\n",
       "\n",
       "    .dataframe tbody tr th {\n",
       "        vertical-align: top;\n",
       "    }\n",
       "\n",
       "    .dataframe thead th {\n",
       "        text-align: right;\n",
       "    }\n",
       "</style>\n",
       "<table border=\"1\" class=\"dataframe\">\n",
       "  <thead>\n",
       "    <tr style=\"text-align: right;\">\n",
       "      <th></th>\n",
       "      <th>GENERO</th>\n",
       "      <th>RENDA</th>\n",
       "      <th>PROFISSAO</th>\n",
       "      <th>TEMPO_ULTIMO_APARELHO</th>\n",
       "      <th>IMPORTANCIA</th>\n",
       "      <th>OITO_1</th>\n",
       "      <th>OITO_2</th>\n",
       "      <th>OITO_3</th>\n",
       "      <th>OITO_4</th>\n",
       "      <th>OITO_5</th>\n",
       "      <th>...</th>\n",
       "      <th>PARADEIRO_ANTIGO</th>\n",
       "      <th>HIBERNACAO</th>\n",
       "      <th>RECICLAGEM</th>\n",
       "      <th>PRECO_ATUAL</th>\n",
       "      <th>NOVO_ATRAI</th>\n",
       "      <th>PROMOCAO</th>\n",
       "      <th>NOTA_ATUAL</th>\n",
       "      <th>SATISFSACAO_NOVO</th>\n",
       "      <th>TEMPO_ESPERADO</th>\n",
       "      <th>DURACAO_ESPERADA</th>\n",
       "    </tr>\n",
       "  </thead>\n",
       "  <tbody>\n",
       "    <tr>\n",
       "      <th>0</th>\n",
       "      <td>2.0</td>\n",
       "      <td>3300.0</td>\n",
       "      <td>0.0</td>\n",
       "      <td>24.0</td>\n",
       "      <td>5.0</td>\n",
       "      <td>2.0</td>\n",
       "      <td>2.0</td>\n",
       "      <td>0.0</td>\n",
       "      <td>2.0</td>\n",
       "      <td>0.0</td>\n",
       "      <td>...</td>\n",
       "      <td>0.0</td>\n",
       "      <td>1.0</td>\n",
       "      <td>2.0</td>\n",
       "      <td>1850.0</td>\n",
       "      <td>0.0</td>\n",
       "      <td>2.0</td>\n",
       "      <td>7.0</td>\n",
       "      <td>9.0</td>\n",
       "      <td>36.0</td>\n",
       "      <td>2.0</td>\n",
       "    </tr>\n",
       "    <tr>\n",
       "      <th>1</th>\n",
       "      <td>1.0</td>\n",
       "      <td>22000.0</td>\n",
       "      <td>0.0</td>\n",
       "      <td>12.0</td>\n",
       "      <td>5.0</td>\n",
       "      <td>0.0</td>\n",
       "      <td>1.0</td>\n",
       "      <td>1.0</td>\n",
       "      <td>3.0</td>\n",
       "      <td>0.0</td>\n",
       "      <td>...</td>\n",
       "      <td>1.0</td>\n",
       "      <td>1.0</td>\n",
       "      <td>2.0</td>\n",
       "      <td>9450.0</td>\n",
       "      <td>8.0</td>\n",
       "      <td>1.0</td>\n",
       "      <td>7.0</td>\n",
       "      <td>8.0</td>\n",
       "      <td>60.0</td>\n",
       "      <td>0.0</td>\n",
       "    </tr>\n",
       "    <tr>\n",
       "      <th>2</th>\n",
       "      <td>1.0</td>\n",
       "      <td>22000.0</td>\n",
       "      <td>0.0</td>\n",
       "      <td>30.0</td>\n",
       "      <td>9.0</td>\n",
       "      <td>0.0</td>\n",
       "      <td>4.0</td>\n",
       "      <td>0.0</td>\n",
       "      <td>0.0</td>\n",
       "      <td>4.0</td>\n",
       "      <td>...</td>\n",
       "      <td>5.0</td>\n",
       "      <td>4.0</td>\n",
       "      <td>1.0</td>\n",
       "      <td>3500.0</td>\n",
       "      <td>0.0</td>\n",
       "      <td>2.0</td>\n",
       "      <td>7.0</td>\n",
       "      <td>8.0</td>\n",
       "      <td>24.0</td>\n",
       "      <td>0.0</td>\n",
       "    </tr>\n",
       "    <tr>\n",
       "      <th>3</th>\n",
       "      <td>2.0</td>\n",
       "      <td>16500.0</td>\n",
       "      <td>0.0</td>\n",
       "      <td>24.0</td>\n",
       "      <td>4.0</td>\n",
       "      <td>0.0</td>\n",
       "      <td>0.0</td>\n",
       "      <td>0.0</td>\n",
       "      <td>3.0</td>\n",
       "      <td>3.0</td>\n",
       "      <td>...</td>\n",
       "      <td>0.0</td>\n",
       "      <td>1.0</td>\n",
       "      <td>0.0</td>\n",
       "      <td>6000.0</td>\n",
       "      <td>1.0</td>\n",
       "      <td>2.0</td>\n",
       "      <td>10.0</td>\n",
       "      <td>10.0</td>\n",
       "      <td>36.0</td>\n",
       "      <td>1.0</td>\n",
       "    </tr>\n",
       "    <tr>\n",
       "      <th>4</th>\n",
       "      <td>2.0</td>\n",
       "      <td>22000.0</td>\n",
       "      <td>1.0</td>\n",
       "      <td>12.0</td>\n",
       "      <td>10.0</td>\n",
       "      <td>0.0</td>\n",
       "      <td>0.0</td>\n",
       "      <td>0.0</td>\n",
       "      <td>3.0</td>\n",
       "      <td>2.0</td>\n",
       "      <td>...</td>\n",
       "      <td>0.0</td>\n",
       "      <td>4.0</td>\n",
       "      <td>2.0</td>\n",
       "      <td>9450.0</td>\n",
       "      <td>8.0</td>\n",
       "      <td>2.0</td>\n",
       "      <td>0.0</td>\n",
       "      <td>0.0</td>\n",
       "      <td>36.0</td>\n",
       "      <td>0.0</td>\n",
       "    </tr>\n",
       "  </tbody>\n",
       "</table>\n",
       "<p>5 rows × 25 columns</p>\n",
       "</div>"
      ],
      "text/plain": [
       "   GENERO    RENDA  PROFISSAO  TEMPO_ULTIMO_APARELHO  IMPORTANCIA  OITO_1  \\\n",
       "0     2.0   3300.0        0.0                   24.0          5.0     2.0   \n",
       "1     1.0  22000.0        0.0                   12.0          5.0     0.0   \n",
       "2     1.0  22000.0        0.0                   30.0          9.0     0.0   \n",
       "3     2.0  16500.0        0.0                   24.0          4.0     0.0   \n",
       "4     2.0  22000.0        1.0                   12.0         10.0     0.0   \n",
       "\n",
       "   OITO_2  OITO_3  OITO_4  OITO_5  ...  PARADEIRO_ANTIGO  HIBERNACAO  \\\n",
       "0     2.0     0.0     2.0     0.0  ...               0.0         1.0   \n",
       "1     1.0     1.0     3.0     0.0  ...               1.0         1.0   \n",
       "2     4.0     0.0     0.0     4.0  ...               5.0         4.0   \n",
       "3     0.0     0.0     3.0     3.0  ...               0.0         1.0   \n",
       "4     0.0     0.0     3.0     2.0  ...               0.0         4.0   \n",
       "\n",
       "   RECICLAGEM  PRECO_ATUAL  NOVO_ATRAI  PROMOCAO  NOTA_ATUAL  \\\n",
       "0         2.0       1850.0         0.0       2.0         7.0   \n",
       "1         2.0       9450.0         8.0       1.0         7.0   \n",
       "2         1.0       3500.0         0.0       2.0         7.0   \n",
       "3         0.0       6000.0         1.0       2.0        10.0   \n",
       "4         2.0       9450.0         8.0       2.0         0.0   \n",
       "\n",
       "   SATISFSACAO_NOVO  TEMPO_ESPERADO  DURACAO_ESPERADA  \n",
       "0               9.0            36.0               2.0  \n",
       "1               8.0            60.0               0.0  \n",
       "2               8.0            24.0               0.0  \n",
       "3              10.0            36.0               1.0  \n",
       "4               0.0            36.0               0.0  \n",
       "\n",
       "[5 rows x 25 columns]"
      ]
     },
     "execution_count": 9,
     "metadata": {},
     "output_type": "execute_result"
    }
   ],
   "source": [
    "filter_transform_df.head()"
   ]
  },
  {
   "cell_type": "markdown",
   "id": "1d9aa766",
   "metadata": {},
   "source": [
    "# GIO CHUTEI QUE DURACAO ESPERADA ESTAVA EM ANOS, SE NAO FOR ISSO SÓ APAGA A CELULA DE BAIXO"
   ]
  },
  {
   "cell_type": "code",
   "execution_count": 10,
   "id": "c3f3b804",
   "metadata": {},
   "outputs": [],
   "source": [
    "normalized_df = (filter_transform_df-filter_transform_df.min())/(filter_transform_df.max()-filter_transform_df.min())"
   ]
  },
  {
   "cell_type": "markdown",
   "id": "8ba20abe",
   "metadata": {},
   "source": [
    "### Range de variação\n",
    "---"
   ]
  },
  {
   "cell_type": "code",
   "execution_count": 11,
   "id": "4a25932d",
   "metadata": {
    "scrolled": true
   },
   "outputs": [
    {
     "data": {
      "text/plain": [
       "<AxesSubplot:>"
      ]
     },
     "execution_count": 11,
     "metadata": {},
     "output_type": "execute_result"
    },
    {
     "data": {
      "image/png": "[encoded data removed]",
      "text/plain": [
       "<Figure size 432x288 with 1 Axes>"
      ]
     },
     "metadata": {
      "needs_background": "light"
     },
     "output_type": "display_data"
    }
   ],
   "source": [
    "normalized_df.boxplot()"
   ]
  },
  {
   "cell_type": "markdown",
   "id": "0da4d694",
   "metadata": {},
   "source": [
    "### Tratando os dados\n",
    "---"
   ]
  },
  {
   "cell_type": "code",
   "execution_count": 12,
   "id": "af800fa0",
   "metadata": {},
   "outputs": [],
   "source": [
    "#preenche Nan com a mediana da coluna\n",
    "imputer = SimpleImputer(strategy='median')\n",
    "imputer.fit(normalized_df)\n",
    "temp = imputer.transform(normalized_df)\n",
    "df_filter_nan = pd.DataFrame(temp, columns=normalized_df.columns)"
   ]
  },
  {
   "cell_type": "markdown",
   "id": "cf6d5b1f",
   "metadata": {},
   "source": [
    "### Visualizando \n",
    "---"
   ]
  },
  {
   "cell_type": "code",
   "execution_count": 13,
   "id": "4b6e38ba",
   "metadata": {},
   "outputs": [
    {
     "data": {
      "image/png": "[encoded data removed]",
      "text/plain": [
       "<Figure size 432x288 with 1 Axes>"
      ]
     },
     "metadata": {
      "needs_background": "light"
     },
     "output_type": "display_data"
    }
   ],
   "source": [
    "x = normalized_df['RENDA'].tolist()\n",
    "y = normalized_df['TEMPO_ULTIMO_APARELHO'].tolist()\n",
    "z = normalized_df['DURACAO_ESPERADA'].tolist()\n",
    "dimensional_graph(x,y,z)"
   ]
  },
  {
   "cell_type": "markdown",
   "id": "bb25204f",
   "metadata": {},
   "source": [
    "### K-means\n",
    "---"
   ]
  },
  {
   "cell_type": "code",
   "execution_count": 14,
   "id": "2a5223c1",
   "metadata": {},
   "outputs": [
    {
     "name": "stderr",
     "output_type": "stream",
     "text": [
      "C:\\Users\\fernando.fincatti\\Anaconda3\\lib\\site-packages\\sklearn\\cluster\\_kmeans.py:881: UserWarning: KMeans is known to have a memory leak on Windows with MKL, when there are less chunks than available threads. You can avoid it by setting the environment variable OMP_NUM_THREADS=1.\n",
      "  warnings.warn(\n"
     ]
    }
   ],
   "source": [
    "distortions = []\n",
    "K = range(1,10)\n",
    "for k in K:\n",
    "    kmeanModel = KMeans(n_clusters=k)\n",
    "    kmeanModel.fit(df_filter_nan)\n",
    "    distortions.append(kmeanModel.inertia_)"
   ]
  },
  {
   "cell_type": "code",
   "execution_count": 15,
   "id": "78416977",
   "metadata": {},
   "outputs": [
    {
     "data": {
      "image/png": "[encoded data removed]",
      "text/plain": [
       "<Figure size 1152x576 with 1 Axes>"
      ]
     },
     "metadata": {
      "needs_background": "light"
     },
     "output_type": "display_data"
    }
   ],
   "source": [
    "plt.figure(figsize=(16,8))\n",
    "plt.plot(K, distortions, 'bx-')\n",
    "plt.xlabel('k')\n",
    "plt.ylabel('Distortion')\n",
    "plt.title('The Elbow Method showing the optimal k')\n",
    "plt.show()"
   ]
  },
  {
   "cell_type": "code",
   "execution_count": 16,
   "id": "c5d1abbb",
   "metadata": {},
   "outputs": [
    {
     "name": "stderr",
     "output_type": "stream",
     "text": [
      "C:\\Users\\fernando.fincatti\\Anaconda3\\lib\\site-packages\\sklearn\\cluster\\_kmeans.py:887: UserWarning: MiniBatchKMeans is known to have a memory leak on Windows with MKL, when there are less chunks than available threads. You can prevent it by setting batch_size >= 2048 or by setting the environment variable OMP_NUM_THREADS=1\n",
      "  warnings.warn(\n"
     ]
    }
   ],
   "source": [
    "#define os pontos no espaço\n",
    "three_means = cluster.MiniBatchKMeans(n_clusters=3)\n",
    "\n",
    "#fit no algoritmo\n",
    "three_means.fit(df_filter_nan)\n",
    "saida = three_means.predict(df_filter_nan)\n",
    "df_filter_nan['CLUSTER'] = saida"
   ]
  },
  {
   "cell_type": "code",
   "execution_count": 17,
   "id": "354f0f14",
   "metadata": {},
   "outputs": [],
   "source": [
    "dados['CLUSTER'] = df_filter_nan['CLUSTER']"
   ]
  },
  {
   "cell_type": "code",
   "execution_count": 18,
   "id": "d58a8f73",
   "metadata": {
    "scrolled": true
   },
   "outputs": [
    {
     "data": {
      "text/html": [
       "<div>\n",
       "<style scoped>\n",
       "    .dataframe tbody tr th:only-of-type {\n",
       "        vertical-align: middle;\n",
       "    }\n",
       "\n",
       "    .dataframe tbody tr th {\n",
       "        vertical-align: top;\n",
       "    }\n",
       "\n",
       "    .dataframe thead th {\n",
       "        text-align: right;\n",
       "    }\n",
       "</style>\n",
       "<table border=\"1\" class=\"dataframe\">\n",
       "  <thead>\n",
       "    <tr style=\"text-align: right;\">\n",
       "      <th></th>\n",
       "      <th>GENERO</th>\n",
       "      <th>RENDA</th>\n",
       "      <th>PROFISSAO</th>\n",
       "      <th>TEMPO_ULTIMO_APARELHO</th>\n",
       "      <th>IMPORTANCIA</th>\n",
       "      <th>OITO_1</th>\n",
       "      <th>OITO_2</th>\n",
       "      <th>OITO_3</th>\n",
       "      <th>OITO_4</th>\n",
       "      <th>OITO_5</th>\n",
       "      <th>...</th>\n",
       "      <th>HIBERNACAO</th>\n",
       "      <th>RECICLAGEM</th>\n",
       "      <th>PRECO_ATUAL</th>\n",
       "      <th>NOVO_ATRAI</th>\n",
       "      <th>PROMOCAO</th>\n",
       "      <th>NOTA_ATUAL</th>\n",
       "      <th>SATISFSACAO_NOVO</th>\n",
       "      <th>TEMPO_ESPERADO</th>\n",
       "      <th>DURACAO_ESPERADA</th>\n",
       "      <th>CLUSTER</th>\n",
       "    </tr>\n",
       "  </thead>\n",
       "  <tbody>\n",
       "    <tr>\n",
       "      <th>0</th>\n",
       "      <td>2</td>\n",
       "      <td>3300</td>\n",
       "      <td>0</td>\n",
       "      <td>24.0</td>\n",
       "      <td>5.0</td>\n",
       "      <td>2</td>\n",
       "      <td>2</td>\n",
       "      <td>0</td>\n",
       "      <td>2</td>\n",
       "      <td>0</td>\n",
       "      <td>...</td>\n",
       "      <td>1</td>\n",
       "      <td>2</td>\n",
       "      <td>1850</td>\n",
       "      <td>0.0</td>\n",
       "      <td>2</td>\n",
       "      <td>7.0</td>\n",
       "      <td>9.0</td>\n",
       "      <td>36.0</td>\n",
       "      <td>2</td>\n",
       "      <td>0</td>\n",
       "    </tr>\n",
       "    <tr>\n",
       "      <th>1</th>\n",
       "      <td>1</td>\n",
       "      <td>22000</td>\n",
       "      <td>0</td>\n",
       "      <td>12.0</td>\n",
       "      <td>5.0</td>\n",
       "      <td>0</td>\n",
       "      <td>1</td>\n",
       "      <td>1</td>\n",
       "      <td>3</td>\n",
       "      <td>0</td>\n",
       "      <td>...</td>\n",
       "      <td>1</td>\n",
       "      <td>2</td>\n",
       "      <td>9450</td>\n",
       "      <td>8.0</td>\n",
       "      <td>1</td>\n",
       "      <td>7.0</td>\n",
       "      <td>8.0</td>\n",
       "      <td>60.0</td>\n",
       "      <td>0</td>\n",
       "      <td>0</td>\n",
       "    </tr>\n",
       "    <tr>\n",
       "      <th>2</th>\n",
       "      <td>1</td>\n",
       "      <td>22000</td>\n",
       "      <td>0</td>\n",
       "      <td>30.0</td>\n",
       "      <td>9.0</td>\n",
       "      <td>0</td>\n",
       "      <td>4</td>\n",
       "      <td>0</td>\n",
       "      <td>0</td>\n",
       "      <td>4</td>\n",
       "      <td>...</td>\n",
       "      <td>4</td>\n",
       "      <td>1</td>\n",
       "      <td>3500</td>\n",
       "      <td>0.0</td>\n",
       "      <td>2</td>\n",
       "      <td>7.0</td>\n",
       "      <td>8.0</td>\n",
       "      <td>24.0</td>\n",
       "      <td>0</td>\n",
       "      <td>1</td>\n",
       "    </tr>\n",
       "    <tr>\n",
       "      <th>3</th>\n",
       "      <td>2</td>\n",
       "      <td>16500</td>\n",
       "      <td>0</td>\n",
       "      <td>24.0</td>\n",
       "      <td>4.0</td>\n",
       "      <td>0</td>\n",
       "      <td>0</td>\n",
       "      <td>0</td>\n",
       "      <td>3</td>\n",
       "      <td>3</td>\n",
       "      <td>...</td>\n",
       "      <td>1</td>\n",
       "      <td>0</td>\n",
       "      <td>6000</td>\n",
       "      <td>1.0</td>\n",
       "      <td>2</td>\n",
       "      <td>10.0</td>\n",
       "      <td>10.0</td>\n",
       "      <td>36.0</td>\n",
       "      <td>1</td>\n",
       "      <td>2</td>\n",
       "    </tr>\n",
       "    <tr>\n",
       "      <th>4</th>\n",
       "      <td>2</td>\n",
       "      <td>22000</td>\n",
       "      <td>1</td>\n",
       "      <td>12.0</td>\n",
       "      <td>10.0</td>\n",
       "      <td>0</td>\n",
       "      <td>0</td>\n",
       "      <td>0</td>\n",
       "      <td>3</td>\n",
       "      <td>2</td>\n",
       "      <td>...</td>\n",
       "      <td>4</td>\n",
       "      <td>2</td>\n",
       "      <td>9450</td>\n",
       "      <td>8.0</td>\n",
       "      <td>2</td>\n",
       "      <td>0.0</td>\n",
       "      <td>0.0</td>\n",
       "      <td>36.0</td>\n",
       "      <td>0</td>\n",
       "      <td>2</td>\n",
       "    </tr>\n",
       "  </tbody>\n",
       "</table>\n",
       "<p>5 rows × 26 columns</p>\n",
       "</div>"
      ],
      "text/plain": [
       "  GENERO  RENDA PROFISSAO  TEMPO_ULTIMO_APARELHO  IMPORTANCIA OITO_1 OITO_2  \\\n",
       "0      2   3300         0                   24.0          5.0      2      2   \n",
       "1      1  22000         0                   12.0          5.0      0      1   \n",
       "2      1  22000         0                   30.0          9.0      0      4   \n",
       "3      2  16500         0                   24.0          4.0      0      0   \n",
       "4      2  22000         1                   12.0         10.0      0      0   \n",
       "\n",
       "  OITO_3 OITO_4 OITO_5  ... HIBERNACAO RECICLAGEM PRECO_ATUAL NOVO_ATRAI  \\\n",
       "0      0      2      0  ...          1          2        1850        0.0   \n",
       "1      1      3      0  ...          1          2        9450        8.0   \n",
       "2      0      0      4  ...          4          1        3500        0.0   \n",
       "3      0      3      3  ...          1          0        6000        1.0   \n",
       "4      0      3      2  ...          4          2        9450        8.0   \n",
       "\n",
       "   PROMOCAO NOTA_ATUAL SATISFSACAO_NOVO TEMPO_ESPERADO DURACAO_ESPERADA  \\\n",
       "0         2        7.0              9.0           36.0                2   \n",
       "1         1        7.0              8.0           60.0                0   \n",
       "2         2        7.0              8.0           24.0                0   \n",
       "3         2       10.0             10.0           36.0                1   \n",
       "4         2        0.0              0.0           36.0                0   \n",
       "\n",
       "   CLUSTER  \n",
       "0        0  \n",
       "1        0  \n",
       "2        1  \n",
       "3        2  \n",
       "4        2  \n",
       "\n",
       "[5 rows x 26 columns]"
      ]
     },
     "execution_count": 18,
     "metadata": {},
     "output_type": "execute_result"
    }
   ],
   "source": [
    "dados.head(5)"
   ]
  },
  {
   "cell_type": "code",
   "execution_count": 19,
   "id": "57b10c99",
   "metadata": {
    "scrolled": true
   },
   "outputs": [
    {
     "data": {
      "text/plain": [
       "0    0.383648\n",
       "2    0.320755\n",
       "1    0.295597\n",
       "Name: CLUSTER, dtype: float64"
      ]
     },
     "execution_count": 19,
     "metadata": {},
     "output_type": "execute_result"
    }
   ],
   "source": [
    "dados.CLUSTER.value_counts(True)"
   ]
  },
  {
   "cell_type": "code",
   "execution_count": null,
   "id": "67b7cf0e",
   "metadata": {},
   "outputs": [],
   "source": []
  }
 ],
 "metadata": {
  "kernelspec": {
   "display_name": "Python 3",
   "language": "python",
   "name": "python3"
  },
  "language_info": {
   "codemirror_mode": {
    "name": "ipython",
    "version": 3
   },
   "file_extension": ".py",
   "mimetype": "text/x-python",
   "name": "python",
   "nbconvert_exporter": "python",
   "pygments_lexer": "ipython3",
   "version": "3.8.8"
  }
 },
 "nbformat": 4,
 "nbformat_minor": 5
}
